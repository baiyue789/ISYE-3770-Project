{
 "cells": [
  {
   "cell_type": "markdown",
   "metadata": {},
   "source": [
    "## Clean CSV code like a basic clean"
   ]
  },
  {
   "cell_type": "code",
   "execution_count": 55,
   "metadata": {},
   "outputs": [
    {
     "name": "stdout",
     "output_type": "stream",
     "text": [
      "Number of duplicate rows: 0\n",
      "Sucessfully cleaned\n"
     ]
    }
   ],
   "source": [
    "import pandas as pd\n",
    "\n",
    "# Load the CSV into a DataFrame\n",
    "file_path = 'dbird_data_Georgia_Tech_final(1).csv' \n",
    "dfoG = pd.read_csv(file_path)\n",
    "\n",
    "# Check for duplicate rows\n",
    "duplicate_rows = dfoG[dfoG.duplicated()]\n",
    "print(f\"Number of duplicate rows: {len(duplicate_rows)}\")\n",
    "\n",
    "# Drop the columns 'notes' and 'image'\n",
    "dfoG = dfoG.drop(columns=['notes', 'image', 'created_at_utc','updated_at_utc', 'location_accuracy_meters', 'mobile_device_gps_source'])\n",
    "\n",
    "\n",
    "# Save the updated DataFrame back to a CSV if needed\n",
    "dfoG.to_csv('updated_dbird.csv', index=False)\n",
    "\n",
    "\n",
    "#so I know when clena is done\n",
    "print(\"Sucessfully cleaned\")"
   ]
  },
  {
   "cell_type": "markdown",
   "metadata": {},
   "source": [
    "## Use the new cleaned CSV data to calculate everything"
   ]
  },
  {
   "cell_type": "code",
   "execution_count": 57,
   "metadata": {},
   "outputs": [],
   "source": [
    "import pandas as pd\n",
    "\n",
    "file_path = 'updated_dbird.csv'\n",
    "df = pd.read_csv('updated_dbird.csv')\n",
    "\n",
    "# Define latitude and longitude bounds\n",
    "top_latitude = 33.77592\n",
    "bottom_latitude = 33.77495\n",
    "left_longitude = -84.40163\n",
    "right_longitude = -84.40106\n",
    "\n"
   ]
  },
  {
   "cell_type": "code",
   "execution_count": 58,
   "metadata": {},
   "outputs": [],
   "source": [
    "# Convert 'observed_at_utc' column to datetime\n",
    "df['observed_at_utc'] = pd.to_datetime(df['observed_at_utc'], format='mixed', errors='coerce')\n",
    "\n",
    "# Format the datetime to only include the date (YYYY-MM-DD)\n",
    "df['observed_at_utc'] = df['observed_at_utc'].dt.date"
   ]
  },
  {
   "cell_type": "code",
   "execution_count": 59,
   "metadata": {},
   "outputs": [],
   "source": [
    "# Filter rows within the latitude and longitude range\n",
    "df_2024_within_bounds = df[\n",
    "    (df['latitude'] <= top_latitude) &\n",
    "    (df['latitude'] >= bottom_latitude) &\n",
    "    (df['longitude'] >= left_longitude) &\n",
    "    (df['longitude'] <= right_longitude)\n",
    "]\n",
    "# Rows in 2024 but outside bounds\n",
    "df_2024_outside_bounds = df.drop(df_2024_within_bounds.index)"
   ]
  },
  {
   "cell_type": "code",
   "execution_count": 60,
   "metadata": {},
   "outputs": [
    {
     "name": "stdout",
     "output_type": "stream",
     "text": [
      "Files saved successfully!\n"
     ]
    }
   ],
   "source": [
    "df_2024_within_bounds.to_csv('dbird_2024_within_bounds.csv', index=False)\n",
    "df_2024_outside_bounds.to_csv('dbird_2024_outside_bounds.csv', index=False)\n",
    "\n",
    "print(\"Files saved successfully!\")"
   ]
  },
  {
   "cell_type": "markdown",
   "metadata": {},
   "source": [
    "## Calcualting the Mean and std of dbird_2024_outside_bounds"
   ]
  },
  {
   "cell_type": "code",
   "execution_count": 15,
   "metadata": {},
   "outputs": [
    {
     "name": "stdout",
     "output_type": "stream",
     "text": [
      "Success: Saved data for 2017-2024.\n",
      "Number of files processed: 7\n",
      " 0\n",
      "Mean size of datasets: 51.0\n",
      "Standard deviation of dataset sizes: 79.09066527304807\n",
      "\n",
      "bird data within bounds mean: 11\n",
      "bird data within bounds Standard deviation: 0\n"
     ]
    }
   ],
   "source": [
    "import pandas as pd\n",
    "import os\n",
    "\n",
    "# File path to the input dataset\n",
    "file_path = \"dbird_2024_outside_bounds.csv\"\n",
    "\n",
    "# Load the dataset\n",
    "df = pd.read_csv(file_path)\n",
    "\n",
    "# Ensure the 'observed_at_utc' column is in datetime format\n",
    "df['observed_at_utc'] = pd.to_datetime(df['observed_at_utc'], errors='coerce')\n",
    "\n",
    "# Extract the year from the 'observed_at_utc' column\n",
    "df['year'] = df['observed_at_utc'].dt.year\n",
    "\n",
    "# Split the data into yearly CSV files (2017-2024)\n",
    "for year in range(2017, 2025):\n",
    "    year_df = df[df['year'] == year]  # Filter for the current year\n",
    "    output_file = f'dbird_data_{year}.csv'\n",
    "    year_df.to_csv(output_file, index=False)  # Save to a CSV file\n",
    "print(\"Success: Saved data for 2017-2024.\")\n",
    "\n",
    "# Initialize a list to store the sizes of each year's dataset\n",
    "sizes = []\n",
    "\n",
    "# Calculate the size (number of rows) for each CSV file\n",
    "for year in range(2017, 2024):\n",
    "    filepath = f'dbird_data_{year}.csv'\n",
    "    try:\n",
    "        tmeancalc = pd.read_csv(filepath)\n",
    "        sizes.append(len(tmeancalc))  # Add the number of rows to the sizes list\n",
    "    except FileNotFoundError:\n",
    "        print(f\"File {filepath} not found. Skipping...\")\n",
    "\n",
    "# Calculate the mean of the sizes\n",
    "mean_size = sum(sizes) / len(sizes) if sizes else 0\n",
    "\n",
    "# Calculate the standard deviation of the sizes\n",
    "std_deviation = pd.Series(sizes).std()\n",
    "\n",
    "# Output the results\n",
    "print(f\"Number of files processed: {len(sizes)}\")\n",
    "print(f\" {sizes[1]}\")\n",
    "print(f\"Mean size of datasets: {mean_size}\")\n",
    "print(f\"Standard deviation of dataset sizes: {std_deviation}\")\n",
    "print(\"\")\n",
    "print(f\"bird data within bounds mean: {len(pd.read_csv('dbird_2024_within_bounds.csv'))}\")\n",
    "print(\"bird data within bounds Standard deviation: 0\")"
   ]
  },
  {
   "cell_type": "markdown",
   "metadata": {},
   "source": []
  }
 ],
 "metadata": {
  "kernelspec": {
   "display_name": "Python 3",
   "language": "python",
   "name": "python3"
  },
  "language_info": {
   "codemirror_mode": {
    "name": "ipython",
    "version": 3
   },
   "file_extension": ".py",
   "mimetype": "text/x-python",
   "name": "python",
   "nbconvert_exporter": "python",
   "pygments_lexer": "ipython3",
   "version": "3.10.11"
  }
 },
 "nbformat": 4,
 "nbformat_minor": 2
}
