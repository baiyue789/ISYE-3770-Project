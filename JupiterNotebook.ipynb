{
 "cells": [
  {
   "cell_type": "markdown",
   "metadata": {},
   "source": [
    "## Clean CSV code like a basic clean"
   ]
  },
  {
   "cell_type": "code",
   "execution_count": 20,
   "metadata": {},
   "outputs": [
    {
     "name": "stdout",
     "output_type": "stream",
     "text": [
      "Number of duplicate rows: 0\n",
      "Sucessfully cleaned\n"
     ]
    }
   ],
   "source": [
    "import pandas as pd\n",
    "\n",
    "# Load the CSV into a DataFrame\n",
    "file_path = 'dbird_data_Georgia_Tech_final(1).csv' \n",
    "dfoG = pd.read_csv(file_path)\n",
    "\n",
    "# Check for duplicate rows\n",
    "duplicate_rows = dfoG[dfoG.duplicated()]\n",
    "print(f\"Number of duplicate rows: {len(duplicate_rows)}\")\n",
    "\n",
    "# Drop the columns 'notes' and 'image'\n",
    "dfoG = dfoG.drop(columns=['notes', 'image', 'created_at_utc','updated_at_utc', 'location_accuracy_meters', 'mobile_device_gps_source'])\n",
    "\n",
    "# Save the updated DataFrame back to a CSV if needed\n",
    "dfoG.to_csv('updated_dbird.csv', index=False)\n",
    "\n",
    "#so I know when clena is done\n",
    "print(\"Sucessfully cleaned\")"
   ]
  },
  {
   "cell_type": "markdown",
   "metadata": {},
   "source": [
    "Use the new cleaned CSV data to calculate everything"
   ]
  },
  {
   "cell_type": "code",
   "execution_count": 21,
   "metadata": {},
   "outputs": [],
   "source": [
    "import pandas as pd\n",
    "\n",
    "file_path = 'updated_dbird.csv'\n",
    "df = pd.read_csv('updated_dbird.csv')\n",
    "\n",
    "# Define latitude and longitude bounds\n",
    "top_latitude = 33.77592\n",
    "bottom_latitude = 33.77495\n",
    "left_longitude = -84.40163\n",
    "right_longitude = -84.40106\n",
    "\n"
   ]
  },
  {
   "cell_type": "code",
   "execution_count": 22,
   "metadata": {},
   "outputs": [
    {
     "name": "stdout",
     "output_type": "stream",
     "text": [
      "<class 'pandas.core.frame.DataFrame'>\n",
      "RangeIndex: 503 entries, 0 to 502\n",
      "Data columns (total 11 columns):\n",
      " #   Column              Non-Null Count  Dtype              \n",
      "---  ------              --------------  -----              \n",
      " 0   id                  503 non-null    object             \n",
      " 1   observed_at_utc     271 non-null    datetime64[ns, UTC]\n",
      " 2   latitude            503 non-null    float64            \n",
      " 3   longitude           503 non-null    float64            \n",
      " 4   common_name         503 non-null    object             \n",
      " 5   scientific_name     503 non-null    object             \n",
      " 6   ebird_species_code  419 non-null    object             \n",
      " 7   age                 503 non-null    object             \n",
      " 8   sex                 503 non-null    object             \n",
      " 9   bird_status         503 non-null    object             \n",
      " 10  cause               499 non-null    object             \n",
      "dtypes: datetime64[ns, UTC](1), float64(2), object(8)\n",
      "memory usage: 43.4+ KB\n"
     ]
    }
   ],
   "source": [
    "# Convert 'observed_at_utc' column to datetime\n",
    "df['observed_at_utc'] = pd.to_datetime(df['observed_at_utc'], errors='coerce')\n",
    "\n",
    "# Verify the conversion\n",
    "df.info()  # Check for datetime type in the 'observed_at_utc' column"
   ]
  },
  {
   "cell_type": "code",
   "execution_count": 23,
   "metadata": {},
   "outputs": [],
   "source": [
    "# Filter rows within the latitude and longitude range\n",
    "df_2024_within_bounds = df[\n",
    "    (df['latitude'] <= top_latitude) &\n",
    "    (df['latitude'] >= bottom_latitude) &\n",
    "    (df['longitude'] >= left_longitude) &\n",
    "    (df['longitude'] <= right_longitude)\n",
    "]\n",
    "# Rows in 2024 but outside bounds\n",
    "df_2024_outside_bounds = df.drop(df_2024_within_bounds.index)"
   ]
  },
  {
   "cell_type": "code",
   "execution_count": 24,
   "metadata": {},
   "outputs": [
    {
     "name": "stdout",
     "output_type": "stream",
     "text": [
      "Files saved successfully!\n"
     ]
    }
   ],
   "source": [
    "df_2024_within_bounds.to_csv('dbird_2024_within_bounds.csv', index=False)\n",
    "df_2024_outside_bounds.to_csv('dbird_2024_outside_bounds.csv', index=False)\n",
    "\n",
    "print(\"Files saved successfully!\")"
   ]
  }
 ],
 "metadata": {
  "kernelspec": {
   "display_name": "Python 3",
   "language": "python",
   "name": "python3"
  },
  "language_info": {
   "codemirror_mode": {
    "name": "ipython",
    "version": 3
   },
   "file_extension": ".py",
   "mimetype": "text/x-python",
   "name": "python",
   "nbconvert_exporter": "python",
   "pygments_lexer": "ipython3",
   "version": "3.10.11"
  }
 },
 "nbformat": 4,
 "nbformat_minor": 2
}
